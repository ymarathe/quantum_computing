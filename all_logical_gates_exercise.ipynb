{
  "cells": [
    {
      "cell_type": "code",
      "execution_count": 18,
      "metadata": {
        "trusted": true
      },
      "outputs": [
        {
          "name": "stderr",
          "output_type": "stream",
          "text": "Credentials are already in use. The existing account in the session will be replaced.\n"
        }
      ],
      "source": "%matplotlib inline\n# Importing standard Qiskit libraries and configuring account\nfrom qiskit import QuantumCircuit, execute, Aer, IBMQ\nfrom qiskit.compiler import transpile, assemble\nfrom qiskit.tools.jupyter import *\nfrom qiskit.visualization import *\n# Loading your IBM Q account(s)\nprovider = IBMQ.load_account()"
    },
    {
      "cell_type": "code",
      "execution_count": 19,
      "metadata": {
        "trusted": true
      },
      "outputs": [],
      "source": "def NOT(input):\n\n    q = QuantumRegister(1) # a qubit in which to encode and manipulate the input\n    c = ClassicalRegister(1) # a bit to store the output\n    qc = QuantumCircuit(q, c) # this is where the quantum program goes\n    \n    # We encode '0' as the qubit state |0⟩, and '1' as |1⟩\n    # Since the qubit is initially |0⟩, we don't need to do anything for an input of '0'\n    # For an input of '1', we do an x to rotate the |0⟩ to |1⟩\n    if input=='1':\n        qc.x( q[0] )\n        \n    # Now we've encoded the input, we can do a NOT on it using x\n    qc.x( q[0] )\n    \n    # Finally, we extract the |0⟩/|1⟩ output of the qubit and encode it in the bit c[0]\n    qc.measure( q[0], c[0] )\n    \n    # We'll run the program on a simulator\n    backend = Aer.get_backend('qasm_simulator')\n    # Since the output will be deterministic, we can use just a single shot to get it\n    job = execute(qc,backend,shots=1)\n    output = next(iter(job.result().get_counts()))\n    \n    return output"
    },
    {
      "cell_type": "code",
      "execution_count": 22,
      "metadata": {
        "trusted": true
      },
      "outputs": [],
      "source": "def XOR(input1, input2):\n    \n    q = QuantumRegister(2) # two qubits in which to encode and manipulate the input\n    c = ClassicalRegister(1) # a bit to store the output\n    qc = QuantumCircuit(q, c) # this is where the quantum program goes\n    \n    \n    # YOUR QUANTUM PROGRAM GOES HERE\n    if input1 == '1':\n        qc.x(q[0])\n    if input2 == '1':\n        qc.x(q[1])\n    \n    qc.cx(q[0], q[1])\n    \n    qc.measure(q[1],c[0]) # YOU CAN CHANGE THIS IF YOU WANT TO\n    \n    # We'll run the program on a simulator\n    backend = Aer.get_backend('qasm_simulator')\n    # Since the output will be deterministic, we can use just a single shot to get it\n    job = execute(qc,backend,shots=1,memory=True)\n    output = job.result().get_memory()[0]\n    \n    return output"
    },
    {
      "cell_type": "code",
      "execution_count": 23,
      "metadata": {
        "trusted": true
      },
      "outputs": [],
      "source": "def AND(input1,input2):\n    \n    q = QuantumRegister(3) # two qubits in which to encode the input, and one for the output\n    c = ClassicalRegister(1) # a bit to store the output\n    qc = QuantumCircuit(q, c) # this is where the quantum program goes\n\n    # YOUR QUANTUM PROGRAM GOES HERE\n    if input1 == '1':\n        qc.x(q[0])\n    if input2 == '1':\n        qc.x(q[1])\n    \n    qc.ccx(q[0], q[1], q[2])\n    qc.measure(q[2],c[0]) # YOU CAN CHANGE THIS IF YOU WANT TO\n    \n    # We'll run the program on a simulator\n    backend = Aer.get_backend('qasm_simulator')\n    # Since the output will be deterministic, we can use just a single shot to get it\n    job = execute(qc,backend,shots=1,memory=True)\n    output = job.result().get_memory()[0]\n    \n    return output"
    },
    {
      "cell_type": "code",
      "execution_count": 24,
      "metadata": {
        "trusted": true
      },
      "outputs": [],
      "source": "def NAND(input1,input2):\n    \n    q = QuantumRegister(3) # two qubits in which to encode the input, and one for the output\n    c = ClassicalRegister(1) # a bit to store the output\n    qc = QuantumCircuit(q, c) # this is where the quantum program goes\n    \n    # YOUR QUANTUM PROGRAM GOES HERE\n    if input1 == '1':\n        qc.x(q[0])\n    if input2 == '1':\n        qc.x(q[1])\n    \n    qc.ccx(q[0], q[1], q[2])\n    qc.x(q[2])\n    \n    qc.measure(q[2],c[0]) # YOU CAN CHANGE THIS IF YOU WANT TO\n    \n    # We'll run the program on a simulator\n    backend = Aer.get_backend('qasm_simulator')\n    # Since the output will be deterministic, we can use just a single shot to get it\n    job = execute(qc,backend,shots=1,memory=True)\n    output = job.result().get_memory()[0]\n    \n    return output"
    },
    {
      "cell_type": "code",
      "execution_count": null,
      "metadata": {
        "trusted": true
      },
      "outputs": [],
      "source": "def OR(input1,input2):\n    \n    q = QuantumRegister(3) # two qubits in which to encode the input, and one for the output\n    c = ClassicalRegister(1) # a bit to store the output\n    qc = QuantumCircuit(q, c) # this is where the quantum program goes\n    \n    # YOUR QUANTUM PROGRAM GOES HERE\n    if input1 == '0':\n        qc.x(q[0])\n    if input2 == '1':\n        qc.x(q[1])\n    \n    qc.ccx(q[0], q[1], q[2])\n    qc.x(q[2])\n    qc.measure(q[2],c[0]) # YOU CAN CHANGE THIS IF YOU WANT TO\n    \n    # We'll run the program on a simulator\n    backend = Aer.get_backend('qasm_simulator')\n    # Since the output will be deterministic, we can use just a single shot to get it\n    job = execute(qc,backend,shots=1,memory=True)\n    output = job.result().get_memory()[0]\n    \n    return output"
    }
  ],
  "metadata": {
    "kernelspec": {
      "display_name": "Python 3",
      "language": "python",
      "name": "python3"
    },
    "language_info": {
      "codemirror_mode": {
        "name": "ipython",
        "version": 3
      },
      "file_extension": ".py",
      "mimetype": "text/x-python",
      "name": "python",
      "nbconvert_exporter": "python",
      "pygments_lexer": "ipython3",
      "version": "3.7.6"
    }
  },
  "nbformat": 4,
  "nbformat_minor": 4
}